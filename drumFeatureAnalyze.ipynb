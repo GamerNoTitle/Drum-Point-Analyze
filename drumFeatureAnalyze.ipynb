{
 "cells": [
  {
   "cell_type": "markdown",
   "metadata": {},
   "source": [
    "# 鼓音色特征分析\n",
    "\n",
    "需要用到的库有scipy, sklearn, numpy, matplotlib, librosa, pyaudio，可以通过pip下载\n",
    "\n",
    "你需要将你的答案正确填写在下列代码中的“你的代码”位置，以下是一个示例：\n",
    "\n",
    "```python\n",
    "# 条件：你需要正确完成此处描述的功能，生成正确的结果，存储到给定的对象中\n",
    "# example：这里存放你生成的结果\n",
    "example = None\n",
    "# =========你的代码=========\n",
    "<此处填写你需要完成的代码>\n",
    "# ========================\n",
    "```"
   ]
  },
  {
   "cell_type": "code",
   "execution_count": 1,
   "metadata": {},
   "outputs": [],
   "source": [
    "import pyaudio\n",
    "import wave\n",
    "import numpy as np\n",
    "import time\n",
    "from tkinter import TclError\n",
    "import matplotlib.pyplot as plt\n",
    "import librosa\n",
    "from scipy.fftpack import fft\n",
    "\n",
    "import os\n",
    "import sys\n",
    "import json\n",
    "import math\n",
    "from sklearn import neighbors"
   ]
  },
  {
   "cell_type": "markdown",
   "metadata": {},
   "source": [
    "# 第一部分 加载鼓音色数据集"
   ]
  },
  {
   "cell_type": "markdown",
   "metadata": {},
   "source": [
    "需要用到的工具函数：包括读取数据集、获取特征和分类标签"
   ]
  },
  {
   "cell_type": "code",
   "execution_count": 7,
   "metadata": {},
   "outputs": [
    {
     "name": "stdout",
     "output_type": "stream",
     "text": [
      "./data/close-hat/hihat - close - 2.wav\n",
      "./data/close-hat/hihat - close - 3.wav\n",
      "./data/close-hat/hihat - close - 4.wav\n",
      "./data/close-hat/hihat - close - 5.wav\n",
      "./data/close-hat/hihat - close - 6.wav\n",
      "./data/close-hat/hihat - close - 7.wav\n",
      "./data/close-hat/hihat - closed - 2.wav\n",
      "./data/close-hat/hihat - closed - 3.wav\n",
      "./data/close-hat/hihat - closed - 4.wav\n",
      "./data/close-hat/hihat - closed - 5.wav\n",
      "./data/close-hat/hihat - closed - 6.wav\n",
      "./data/close-hat/hihat - closed - 7.wav\n",
      "./data/close-hat/hihat - closed - 8.wav\n",
      "./data/kick/Kick 1 Room.wav\n",
      "./data/kick/Kick 10 Room.wav\n",
      "./data/kick/Kick 2 Room.wav\n",
      "./data/kick/Kick 3 Room.wav\n",
      "./data/kick/Kick 4 Room.wav\n",
      "./data/kick/Kick 5 Room.wav\n",
      "./data/kick/Kick 6 Room.wav\n",
      "./data/kick/Kick 7 Room.wav\n",
      "./data/kick/Kick 8 Room.wav\n",
      "./data/kick/Kick 9 Room.wav\n",
      "./data/snare/Snare Garage 1 V3.wav\n",
      "./data/snare/Snare Garage 1 V4.wav\n",
      "./data/snare/Snare Garage 1 V5.wav\n",
      "./data/snare/Snare Garage 1 V6.wav\n",
      "./data/snare/Snare Garage 1 V7.wav\n",
      "./data/snare/Snare Garage 2 V12.wav\n",
      "./data/snare/Snare Garage 2 V13.wav\n",
      "./data/snare/Snare Garage 2 V4.wav\n",
      "./data/snare/Snare Garage 2 V5.wav\n",
      "./data/snare/Snare Garage 2 V8.wav\n",
      "./data/snare/Snare Garage 2 V9.wav\n",
      "./data/tom/Floor-Tom-2.wav\n",
      "./data/tom/Floor-Tom-3.wav\n",
      "./data/tom/Hi-Tom-2.wav\n",
      "./data/tom/Hi-Tom-3.wav\n",
      "./data/tom/Hi-Tom-4.wav\n",
      "./data/tom/Korg-N1R-High-Tom-2.wav\n",
      "./data/tom/Korg-N1R-High-Tom.wav\n",
      "./data/tom/Korg-N1R-Low-Tom-2.wav\n",
      "./data/tom/Korg-N1R-Low-Tom.wav\n",
      "./data/tom/Korg-N1R-Mid-Tom-2.wav\n",
      "./data/tom/Korg-N1R-Mid-Tom.wav\n",
      "./data/tom/Low-Tom-2.wav\n",
      "./data/tom/Low-Tom-3.wav\n",
      "./data/tom/Mid-Tom-4.wav\n"
     ]
    }
   ],
   "source": [
    "filename = './features_1.json'\n",
    "data = json.load(open(filename))\n",
    "\n",
    "for path, features_dict in data.items():\n",
    "    print(path)"
   ]
  },
  {
   "cell_type": "code",
   "execution_count": 14,
   "metadata": {},
   "outputs": [],
   "source": [
    "def read_data_1():\n",
    "    filename = '.\\\\features_1.json'\n",
    "    data = json.load(open(filename))\n",
    "\n",
    "    feature_names = sorted(list(data.values())[0])\n",
    "\n",
    "    class_names = set()\n",
    "    for path, features_dict in data.items():\n",
    "        class_names.add(path.split('/')[-2])\n",
    "    class_names = sorted(class_names)\n",
    "\n",
    "    sample_names = []\n",
    "    features = []\n",
    "    classes = []\n",
    "    for path, features_dict in data.items():\n",
    "        sample_names.append(path.split('/')[-1])\n",
    "        classes.append(class_names.index(path.split('/')[-2]))\n",
    "\n",
    "        feature_vector = []\n",
    "        for feature_key in feature_names:\n",
    "            feature_value = features_dict[feature_key]\n",
    "            if feature_value > 1000000.:\n",
    "                feature_value = 1000000.\n",
    "            if feature_value < -1000000.:\n",
    "                feature_value = -1000000.\n",
    "            if math.isnan(feature_value):\n",
    "                feature_value = 0\n",
    "            feature_vector.append(feature_value)\n",
    "\n",
    "        features.append(feature_vector)\n",
    "    return features, classes, sample_names, feature_names, class_names\n",
    "\n",
    "features_1, classes_1, sample_names_1, feature_names_1, class_names_1 = read_data_1()\n",
    "\n",
    "features = []\n",
    "classes = []\n",
    "\n",
    "for i in range(len(features_1)):\n",
    "    class_id = classes_1[i]\n",
    "    if class_id in [0, 3]:\n",
    "        classes.append(classes_1[i])\n",
    "        zcrs1 = features_1[i][3]\n",
    "        cent2 = features_1[i][0]\n",
    "        features.append([zcrs1, cent2])"
   ]
  },
  {
   "cell_type": "markdown",
   "metadata": {},
   "source": [
    "以上返回的数据集包含`classes`类别数组和`features`特征数组。`classes`和`features`的长度是相等的，`len(classes)=len(features)=样本个数`。\n",
    "\n",
    "`classes`和`features`下标相同的元素代表同一个样本的分类和特征，例如：第i个样本的特征为`features[i]`，分类id为`classes[i]`\n",
    "\n",
    "`class_names_1`列表为类别id和类别名称的对应关系，内容为`[0:'close-hat', 1:'kick', 2:'snare', 3:'tom']`，我们选择两个分类使用：一个是id为0的close-hat（闭合的踩镲），一个是id为3的tom（中鼓）。\n",
    "\n",
    "`classes`包含分类的类别id，`features`包含每个样本的特征，每个样本的特征为`[zcrs_max, cent_max]`，分别为样本过零率最大值和频谱质心的最大值"
   ]
  },
  {
   "cell_type": "code",
   "execution_count": 15,
   "metadata": {},
   "outputs": [
    {
     "name": "stdout",
     "output_type": "stream",
     "text": [
      "features:  [[0.25439453125, 5516.4580032534495], [0.3681640625, 5490.601257198063], [0.337890625, 5352.68047389478], [0.2919921875, 5336.766295981619], [0.30517578125, 5289.036366374137], [0.193359375, 5244.629253486402], [0.29296875, 5623.7659549621], [0.35546875, 5338.70141195639], [0.40234375, 5534.624111796196], [0.46044921875, 5667.873721573634], [0.46875, 5764.765050822283], [0.42724609375, 5665.266826804815], [0.48828125, 5721.607529192007], [0.0322265625, 2151.831411477686], [0.02392578125, 2370.5585954217368], [0.02685546875, 2490.1321606766824], [0.03564453125, 3801.8154882684476], [0.06689453125, 3576.86491428312], [0.03466796875, 2544.871084198307], [0.046875, 2511.5392874996087], [0.033203125, 2889.4074561680122], [0.03271484375, 3030.1333641026104], [0.04736328125, 3089.1199470143483], [0.02978515625, 2335.6373727027867], [0.021484375, 1751.034211035683], [0.01416015625, 1863.902143068636], [0.02587890625, 2089.526381590321]]\n",
      "classes [0, 0, 0, 0, 0, 0, 0, 0, 0, 0, 0, 0, 0, 3, 3, 3, 3, 3, 3, 3, 3, 3, 3, 3, 3, 3, 3]\n",
      "class_name_1 ['close-hat', 'kick', 'snare', 'tom']\n"
     ]
    }
   ],
   "source": [
    "print('features: ', features)\n",
    "print('classes', classes)\n",
    "print('class_name_1', class_names_1)"
   ]
  },
  {
   "cell_type": "markdown",
   "metadata": {},
   "source": [
    "画出数据集分布，分类为tom的样本标记为红色三角形，close-hat的样本标记为蓝色正方形"
   ]
  },
  {
   "cell_type": "code",
   "execution_count": 12,
   "metadata": {},
   "outputs": [
    {
     "data": {
      "image/png": "[encoded data removed]",
      "text/plain": [
       "<Figure size 432x288 with 1 Axes>"
      ]
     },
     "metadata": {
      "needs_background": "light"
     },
     "output_type": "display_data"
    }
   ],
   "source": [
    "%matplotlib inline\n",
    "\n",
    "# 你需要填充以下4个数组：\n",
    "tom_zcrs_max = [] # 分类为tom样本的“过零率最大值”特征值集合\n",
    "tom_cent_max = [] # 分类为tom样本的“频谱质心最大值”特征值集合\n",
    "closehat_zcrs_max = [] # 分类为close-hat样本的“过零率最大值”特征值集合\n",
    "closehat_cent_max = [] # 分类为close-hat样本的“频谱质心最大值”特征值集合\n",
    "\n",
    "# sample_count为样本数量\n",
    "# features的shape为(sample_count, 2)，存储格式为：\n",
    "# [\n",
    "#     [样本1的过零率最大值，样本1的频谱质心最大值],\n",
    "#     [样本2的过零率最大值，样本2的频谱质心最大值],\n",
    "#     ......\n",
    "# ]\n",
    "# classes的shape为(sample_count, )，存储格式为：\n",
    "# [\n",
    "#     样本1标签，\n",
    "#     样本2标签，\n",
    "#     ...\n",
    "# ]\n",
    "# 你需要正确将每个样本的每个特征正确归类到以上四个数组中\n",
    "# 例：tom_zcrs_max = [分类为tom的样本1过零率最大值, 分类为tom的样本2过零率最大值, ....]\n",
    "\n",
    "# =========你的代码=========\n",
    "\n",
    "# ========================\n",
    "\n",
    "# 使用“过零率最大值”为x轴，“频谱质心最大值”为y轴画图\n",
    "\n",
    "fig, ax = plt.subplots()\n",
    "ax.set_title('drum wave feature visualize')\n",
    "ax.set_xlabel('zero crossing rate max')\n",
    "ax.set_ylabel('spectral centroid max')\n",
    "ax.scatter(tom_zcrs_max,tom_cent_max,c='b',marker='s',s=50,alpha=0.8) # 将tom样本根据特征画在散点图上\n",
    "ax.scatter(closehat_zcrs_max,closehat_cent_max,c='r', marker='^', s=50, alpha=0.8) # 将close-hat样本根据特征画在散点图上\n",
    "plt.show()"
   ]
  },
  {
   "cell_type": "markdown",
   "metadata": {},
   "source": [
    "使用knn对数据集分类，其中输入的样本特征为features，样本分类标签为classes"
   ]
  },
  {
   "cell_type": "code",
   "execution_count": 5,
   "metadata": {},
   "outputs": [
    {
     "name": "stdout",
     "output_type": "stream",
     "text": [
      "1.0\n"
     ]
    }
   ],
   "source": [
    "# 构建最大近邻数为5的knn分类器\n",
    "# 你需要返回以下对象：\n",
    "# knn：KNN分类器对象\n",
    "\n",
    "knn = None\n",
    "# =========你的代码=========\n",
    "\n",
    "# ========================\n",
    "\n",
    "# 训练knn分类器\n",
    "knn.fit(features, classes)\n",
    "\n",
    "# 使用训练集预测分类结果\n",
    "# 你需要返回以下对象：\n",
    "# predicted：输入为训练集特征features，在knn分类器的预测结果\n",
    "predicted = None\n",
    "# =========你的代码=========\n",
    "\n",
    "# ========================\n",
    "accuracy = np.mean(predicted==classes)\n",
    "print(accuracy)"
   ]
  },
  {
   "cell_type": "markdown",
   "metadata": {},
   "source": [
    "# 第二部分 使用麦克风采集单个音频样本并分析特征"
   ]
  },
  {
   "cell_type": "markdown",
   "metadata": {},
   "source": [
    "以下为设置使用麦克风采样音频的参数"
   ]
  },
  {
   "cell_type": "code",
   "execution_count": 6,
   "metadata": {},
   "outputs": [],
   "source": [
    "CHUNK = 4 * 1024                     # 缓冲区可容纳的帧数\n",
    "FORMAT = pyaudio.paInt16             # 采样数据的格式（16位int型）\n",
    "CHANNELS = 1                         # 声道数\n",
    "RATE = 44100                        # 麦克风采样的实际帧率（每秒采样的帧数）\n",
    "RECORD_SECONDS = 0.2          # 采样秒数\n",
    "CHUNK_COUNT = int(RATE / CHUNK * RECORD_SECONDS)    # 给定的采样秒数下，使用的缓冲区个数\n",
    "NUM_FRAMES_IN_ALL_CHUNKS = CHUNK_COUNT * CHUNK  # 给定的采样秒数下，采集的帧数"
   ]
  },
  {
   "cell_type": "markdown",
   "metadata": {},
   "source": [
    "使用麦克风采样一个chunk，观察每次采样的采样值"
   ]
  },
  {
   "cell_type": "code",
   "execution_count": 7,
   "metadata": {},
   "outputs": [
    {
     "name": "stdout",
     "output_type": "stream",
     "text": [
      "* recording\n",
      "* done recording\n"
     ]
    },
    {
     "data": {
      "image/png": "[encoded data removed]",
      "text/plain": [
       "<Figure size 432x288 with 1 Axes>"
      ]
     },
     "metadata": {
      "needs_background": "light"
     },
     "output_type": "display_data"
    }
   ],
   "source": [
    "print(\"* recording\")\n",
    "\n",
    "# 需要构造PyAudio类的实例，通过该实例打开流，读取一个缓冲区的采样值，关闭流\n",
    "# 你需要正确生成这个对象：\n",
    "# data：缓冲区内的采样数据\n",
    "\n",
    "data = \"\"\n",
    "\n",
    "# =========你的代码=========\n",
    "\n",
    "# ========================\n",
    "\n",
    "print(\"* done recording\")\n",
    "\n",
    "audio_data = np.frombuffer(data, dtype=np.int16)\n",
    "fig, ax = plt.subplots()\n",
    "ax.set_title('wave samples in a chunk')\n",
    "ax.set_xlabel('frame')\n",
    "ax.set_ylabel('amplitude')\n",
    "ax.plot(audio_data, \"-\")\n",
    "plt.show()"
   ]
  },
  {
   "cell_type": "markdown",
   "metadata": {},
   "source": [
    "使用librosa提取上述样本的过零率和频谱质心"
   ]
  },
  {
   "cell_type": "code",
   "execution_count": 8,
   "metadata": {},
   "outputs": [
    {
     "name": "stdout",
     "output_type": "stream",
     "text": [
      "过零率：  [[0.02099609 0.02563477 0.02661133 0.03027344 0.03295898 0.02880859\n",
      "  0.02246094 0.01855469 0.01196289]]\n",
      "频谱质心：  [[1166.21289807 1069.88772485  970.48350001  909.80836395  947.28580811\n",
      "   906.59494871  838.76663332  757.22029884  662.60742552]]\n",
      "过零率最大值：  0.032958984375\n",
      "频谱质心最大值：  1166.2128980714735\n"
     ]
    }
   ],
   "source": [
    "audio_data = audio_data.astype(np.float32)\n",
    "# audio_data为np.array对象，使用librosa库从该段音频样本中提取过零率和频谱质心特征\n",
    "# 注意：获取频谱质心函数中的采样率应为RATE\n",
    "# 你需要正确生成这个对象：\n",
    "# zcrs：使用librosa库从audio_data获取的过零率数据\n",
    "# cent：使用librosa库从audio_data获取的频谱质心数据\n",
    "\n",
    "zcrs = None\n",
    "cent = None\n",
    "\n",
    "# =========你的代码=========\n",
    "\n",
    "\n",
    "# ========================\n",
    "\n",
    "print(\"过零率： \", zcrs)\n",
    "print(\"频谱质心： \", cent)\n",
    "# 取得过零率和频谱质心的最大值\n",
    "zcrs_max = np.max(zcrs[0])\n",
    "cent_max = np.max(cent[0])\n",
    "print(\"过零率最大值： \", zcrs_max)\n",
    "print(\"频谱质心最大值： \", cent_max)"
   ]
  },
  {
   "cell_type": "markdown",
   "metadata": {},
   "source": [
    "使用上述训练的knn模型对本次采样进行分类"
   ]
  },
  {
   "cell_type": "code",
   "execution_count": 9,
   "metadata": {},
   "outputs": [
    {
     "name": "stdout",
     "output_type": "stream",
     "text": [
      "tom\n"
     ]
    }
   ],
   "source": [
    "predicted = knn.predict([[zcrs_max, cent_max]])\n",
    "print(class_names_1[predicted[0]])"
   ]
  },
  {
   "cell_type": "markdown",
   "metadata": {},
   "source": [
    "# 第三部分：使用麦克风连续采样并分析特征"
   ]
  },
  {
   "cell_type": "markdown",
   "metadata": {},
   "source": [
    "修改matplotlib的显示方式，改为独立窗口显示"
   ]
  },
  {
   "cell_type": "code",
   "execution_count": 10,
   "metadata": {},
   "outputs": [],
   "source": [
    "from IPython.display import display, clear_output"
   ]
  },
  {
   "cell_type": "code",
   "execution_count": 11,
   "metadata": {},
   "outputs": [],
   "source": [
    "%matplotlib tk"
   ]
  },
  {
   "cell_type": "markdown",
   "metadata": {},
   "source": [
    "设置图表的显示格式，包括正确的坐标轴、标签和阈值"
   ]
  },
  {
   "cell_type": "code",
   "execution_count": 12,
   "metadata": {},
   "outputs": [],
   "source": [
    "%matplotlib tk\n",
    "\n",
    "# create matplotlib figure and axes\n",
    "fig, ax1 = plt.subplots(1, figsize=(15, 7))\n",
    "\n",
    "# variable for plotting\n",
    "x = np.arange(0, NUM_FRAMES_IN_ALL_CHUNKS, 1) # 样本数据\n",
    "\n",
    "# create a line object with random data\n",
    "line, = ax1.plot(x, np.random.rand(NUM_FRAMES_IN_ALL_CHUNKS), '-', lw=2)\n",
    "\n",
    "# basic formatting for the axes\n",
    "ax1.set_title('audio waves')\n",
    "ax1.set_xlabel('frame')\n",
    "ax1.set_ylabel('amplitude (normalized)')\n",
    "ax1.set_ylim(-1, 1)\n",
    "ax1.set_xlim(0, NUM_FRAMES_IN_ALL_CHUNKS)\n",
    "plt.setp(ax1, xticks=[0, NUM_FRAMES_IN_ALL_CHUNKS/2, NUM_FRAMES_IN_ALL_CHUNKS], yticks=[-1, 0, 1])\n",
    "\n",
    "# show the plot\n",
    "plt.show(block=False)\n",
    "\n",
    "audio_data = np.zeros([NUM_FRAMES_IN_ALL_CHUNKS], dtype=np.int16)\n",
    "line.set_ydata(audio_data)"
   ]
  },
  {
   "cell_type": "markdown",
   "metadata": {},
   "source": [
    "每隔`RECORD_SECONDS`秒采集一段音频，对该样本绘制其波形及频谱，并用knn模型进行分类（是否为tom低音鼓或close-hat镲）"
   ]
  },
  {
   "cell_type": "code",
   "execution_count": 13,
   "metadata": {},
   "outputs": [
    {
     "data": {
      "text/plain": [
       "'zcrs: [[0.03271484 0.03662109 0.0402832  0.04272461 0.04394531 0.02905273\\n  0.04614258 0.04711914 0.04394531 0.04760742 0.04931641 0.05004883\\n  0.05175781 0.04882812 0.02734375 0.02246094 0.01904297]]'"
      ]
     },
     "metadata": {},
     "output_type": "display_data"
    },
    {
     "data": {
      "text/plain": [
       "'cent: [[7029.57745403 5814.62770926 2444.89043898 1829.35483622 1543.49075609\\n  1395.46198067 1246.95141183 1018.64297434 3404.09644204 6746.30295786\\n  5697.00257618 2287.25410209 1987.82794001 1667.70297886 1318.73849321\\n  1343.00177434 1183.86152249]]'"
      ]
     },
     "metadata": {},
     "output_type": "display_data"
    },
    {
     "data": {
      "text/plain": [
       "'zcrs_max: 0.0517578125'"
      ]
     },
     "metadata": {},
     "output_type": "display_data"
    },
    {
     "data": {
      "text/plain": [
       "'cent_max: 7029.577454032591'"
      ]
     },
     "metadata": {},
     "output_type": "display_data"
    },
    {
     "data": {
      "text/plain": [
       "'predict: close-hat'"
      ]
     },
     "metadata": {},
     "output_type": "display_data"
    },
    {
     "data": {
      "text/plain": [
       "'stream stopped'"
      ]
     },
     "metadata": {},
     "output_type": "display_data"
    }
   ],
   "source": [
    "# 需要构造PyAudio类的实例，和生成输入流\n",
    "# 注意：需要正确设置流的缓冲区大小为CHUNK，即缓冲区内存放的帧数\n",
    "# 你需要正确生成这个对象：\n",
    "# p：pyaudio实例\n",
    "# stream：输入流\n",
    "\n",
    "p = None\n",
    "stream = None\n",
    "\n",
    "# =========你的代码=========\n",
    "\n",
    "\n",
    "# ========================\n",
    "\n",
    "\n",
    "display('stream started')\n",
    "\n",
    "# 使用while循环不断从stream中读取样本，直到关闭图表位置\n",
    "# 你可以在break的位置观察到：关闭matplotlib生成的图表会抛出TclError异常\n",
    "\n",
    "while True:\n",
    "\n",
    "    # 由于每次从流中获取数据是以缓冲区为单位，RECORD_SECONDS时间内会获取不止一个chunk大小的样本\n",
    "    # 将每次从缓冲区取出的数据放入frames数组中，随后将它们拼接起来\n",
    "    frames = []\n",
    "    for i in range(0, int(RATE / CHUNK * RECORD_SECONDS)):\n",
    "        data = stream.read(CHUNK, exception_on_overflow = False)\n",
    "        data_np =  np.frombuffer(data, dtype=np.int16)\n",
    "        frames.append(data_np)\n",
    "\n",
    "    audio_data = np.hstack(frames)\n",
    "    \n",
    "    # 将样本归一化到[0, 1]范围内\n",
    "    audio_data_norm = audio_data / float(np.amax(np.abs(audio_data)))\n",
    "    # 画图\n",
    "    line.set_ydata(audio_data_norm)\n",
    "    \n",
    "    audio_data = audio_data.astype(np.float32)\n",
    "    # audio_data包含了在设定的时间范围内获取的音频样本\n",
    "    # 需要对该样本使用librosa库进行特征提取\n",
    "    # 你需要正确生成这个对象：\n",
    "    # zcrs：使用librosa库从audio_data获取的过零率数据\n",
    "    # cent：使用librosa库从audio_data获取的频谱质心数据\n",
    "    zcrs = []\n",
    "    cent = []\n",
    "    # =========你的代码=========\n",
    "\n",
    "    \n",
    "    # ========================\n",
    "    \n",
    "    # 输出结果到下方标准输出\n",
    "    clear_output()\n",
    "    display(\"zcrs: \" + str(zcrs))\n",
    "    display(\"cent: \" + str(cent))\n",
    "    \n",
    "    zcrs_max = np.max(zcrs[0]) # 过零率的最大值\n",
    "    cent_max = np.max(cent[0]) # 频率质心的最大值\n",
    "    display(\"zcrs_max: \" + str(zcrs_max))\n",
    "    display(\"cent_max: \" + str(cent_max))\n",
    "    \n",
    "    # 使用knn分类器对上述样本的两个特征进行分类\n",
    "    # 你需要正确生成这个对象：\n",
    "    # predicted：使用knn分类器返回预测标签\n",
    "    predicted = [None]\n",
    "    # =========你的代码=========\n",
    "\n",
    "    \n",
    "    # ========================\n",
    "    display(\"predict: \" + class_names_1[predicted[0]])\n",
    "    \n",
    "    #  更新图表\n",
    "    try:\n",
    "        fig.canvas.draw()\n",
    "        fig.canvas.flush_events()\n",
    "    \n",
    "    # 关闭图表，中断循环\n",
    "    except TclError:\n",
    "        display('stream stopped')\n",
    "        break"
   ]
  },
  {
   "cell_type": "markdown",
   "metadata": {},
   "source": [
    "# 总结\n",
    "\n",
    "恭喜你完成了以上的任务！如果你对音频特征还有更多兴趣的话，可以试试以下的事情：\n",
    "\n",
    "- 使用傅立叶转换获取音频样本的频谱图\n",
    "- 使用librosa提取不同的特征\n",
    "- 使用不同的分类器对你获取的特征进行分类"
   ]
  },
  {
   "cell_type": "code",
   "execution_count": null,
   "metadata": {},
   "outputs": [],
   "source": []
  }
 ],
 "metadata": {
  "kernelspec": {
   "display_name": "Python 3",
   "language": "python",
   "name": "python3"
  },
  "language_info": {
   "codemirror_mode": {
    "name": "ipython",
    "version": 3
   },
   "file_extension": ".py",
   "mimetype": "text/x-python",
   "name": "python",
   "nbconvert_exporter": "python",
   "pygments_lexer": "ipython3",
   "version": "3.7.3"
  }
 },
 "nbformat": 4,
 "nbformat_minor": 2
}
