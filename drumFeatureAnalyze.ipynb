{
 "cells": [
  {
   "cell_type": "markdown",
   "metadata": {},
   "source": [
    "# 鼓音色特征分析\n",
    "\n",
    "需要用到的库有scipy, sklearn, numpy, matplotlib, librosa, pyaudio，可以通过pip下载\n",
    "\n",
    "你需要将你的答案正确填写在下列代码中的“你的代码”位置，以下是一个示例：\n",
    "\n",
    "```python\n",
    "# 条件：你需要正确完成此处描述的功能，生成正确的结果，存储到给定的对象中\n",
    "# example：这里存放你生成的结果\n",
    "example = None\n",
    "# =========你的代码=========\n",
    "<此处填写你需要完成的代码>\n",
    "# ========================\n",
    "```"
   ]
  },
  {
   "cell_type": "code",
   "execution_count": 33,
   "metadata": {},
   "outputs": [],
   "source": [
    "import pyaudio\n",
    "import wave\n",
    "import numpy as np\n",
    "import time\n",
    "from tkinter import TclError\n",
    "import matplotlib.pyplot as plt\n",
    "import librosa\n",
    "from scipy.fftpack import fft\n",
    "import pandas as pd\n",
    "import os\n",
    "import sys\n",
    "import json\n",
    "import math\n",
    "from sklearn import neighbors"
   ]
  },
  {
   "cell_type": "markdown",
   "metadata": {},
   "source": [
    "# 第一部分 加载鼓音色数据集"
   ]
  },
  {
   "cell_type": "markdown",
   "metadata": {},
   "source": [
    "需要用到的工具函数：包括读取数据集、获取特征和分类标签"
   ]
  },
  {
   "cell_type": "code",
   "execution_count": 7,
   "metadata": {},
   "outputs": [
    {
     "name": "stdout",
     "output_type": "stream",
     "text": [
      "./data/close-hat/hihat - close - 2.wav\n",
      "./data/close-hat/hihat - close - 3.wav\n",
      "./data/close-hat/hihat - close - 4.wav\n",
      "./data/close-hat/hihat - close - 5.wav\n",
      "./data/close-hat/hihat - close - 6.wav\n",
      "./data/close-hat/hihat - close - 7.wav\n",
      "./data/close-hat/hihat - closed - 2.wav\n",
      "./data/close-hat/hihat - closed - 3.wav\n",
      "./data/close-hat/hihat - closed - 4.wav\n",
      "./data/close-hat/hihat - closed - 5.wav\n",
      "./data/close-hat/hihat - closed - 6.wav\n",
      "./data/close-hat/hihat - closed - 7.wav\n",
      "./data/close-hat/hihat - closed - 8.wav\n",
      "./data/kick/Kick 1 Room.wav\n",
      "./data/kick/Kick 10 Room.wav\n",
      "./data/kick/Kick 2 Room.wav\n",
      "./data/kick/Kick 3 Room.wav\n",
      "./data/kick/Kick 4 Room.wav\n",
      "./data/kick/Kick 5 Room.wav\n",
      "./data/kick/Kick 6 Room.wav\n",
      "./data/kick/Kick 7 Room.wav\n",
      "./data/kick/Kick 8 Room.wav\n",
      "./data/kick/Kick 9 Room.wav\n",
      "./data/snare/Snare Garage 1 V3.wav\n",
      "./data/snare/Snare Garage 1 V4.wav\n",
      "./data/snare/Snare Garage 1 V5.wav\n",
      "./data/snare/Snare Garage 1 V6.wav\n",
      "./data/snare/Snare Garage 1 V7.wav\n",
      "./data/snare/Snare Garage 2 V12.wav\n",
      "./data/snare/Snare Garage 2 V13.wav\n",
      "./data/snare/Snare Garage 2 V4.wav\n",
      "./data/snare/Snare Garage 2 V5.wav\n",
      "./data/snare/Snare Garage 2 V8.wav\n",
      "./data/snare/Snare Garage 2 V9.wav\n",
      "./data/tom/Floor-Tom-2.wav\n",
      "./data/tom/Floor-Tom-3.wav\n",
      "./data/tom/Hi-Tom-2.wav\n",
      "./data/tom/Hi-Tom-3.wav\n",
      "./data/tom/Hi-Tom-4.wav\n",
      "./data/tom/Korg-N1R-High-Tom-2.wav\n",
      "./data/tom/Korg-N1R-High-Tom.wav\n",
      "./data/tom/Korg-N1R-Low-Tom-2.wav\n",
      "./data/tom/Korg-N1R-Low-Tom.wav\n",
      "./data/tom/Korg-N1R-Mid-Tom-2.wav\n",
      "./data/tom/Korg-N1R-Mid-Tom.wav\n",
      "./data/tom/Low-Tom-2.wav\n",
      "./data/tom/Low-Tom-3.wav\n",
      "./data/tom/Mid-Tom-4.wav\n"
     ]
    }
   ],
   "source": [
    "filename = './features_1.json'\n",
    "data = json.load(open(filename))\n",
    "\n",
    "for path, features_dict in data.items():\n",
    "    print(path)"
   ]
  },
  {
   "cell_type": "code",
   "execution_count": 14,
   "metadata": {},
   "outputs": [],
   "source": [
    "def read_data_1():\n",
    "    filename = '.\\\\features_1.json'\n",
    "    data = json.load(open(filename))\n",
    "\n",
    "    feature_names = sorted(list(data.values())[0])\n",
    "\n",
    "    class_names = set()\n",
    "    for path, features_dict in data.items():\n",
    "        class_names.add(path.split('/')[-2])\n",
    "    class_names = sorted(class_names)\n",
    "\n",
    "    sample_names = []\n",
    "    features = []\n",
    "    classes = []\n",
    "    for path, features_dict in data.items():\n",
    "        sample_names.append(path.split('/')[-1])\n",
    "        classes.append(class_names.index(path.split('/')[-2]))\n",
    "\n",
    "        feature_vector = []\n",
    "        for feature_key in feature_names:\n",
    "            feature_value = features_dict[feature_key]\n",
    "            if feature_value > 1000000.:\n",
    "                feature_value = 1000000.\n",
    "            if feature_value < -1000000.:\n",
    "                feature_value = -1000000.\n",
    "            if math.isnan(feature_value):\n",
    "                feature_value = 0\n",
    "            feature_vector.append(feature_value)\n",
    "\n",
    "        features.append(feature_vector)\n",
    "    return features, classes, sample_names, feature_names, class_names\n",
    "\n",
    "features_1, classes_1, sample_names_1, feature_names_1, class_names_1 = read_data_1()\n",
    "\n",
    "features = []\n",
    "classes = []\n",
    "\n",
    "for i in range(len(features_1)):\n",
    "    class_id = classes_1[i]\n",
    "    if class_id in [0, 3]:\n",
    "        classes.append(classes_1[i])\n",
    "        zcrs1 = features_1[i][3]\n",
    "        cent2 = features_1[i][0]\n",
    "        features.append([zcrs1, cent2])"
   ]
  },
  {
   "cell_type": "markdown",
   "metadata": {},
   "source": [
    "以上返回的数据集包含`classes`类别数组和`features`特征数组。`classes`和`features`的长度是相等的，`len(classes)=len(features)=样本个数`。\n",
    "\n",
    "`classes`和`features`下标相同的元素代表同一个样本的分类和特征，例如：第i个样本的特征为`features[i]`，分类id为`classes[i]`\n",
    "\n",
    "`class_names_1`列表为类别id和类别名称的对应关系，内容为`[0:'close-hat', 1:'kick', 2:'snare', 3:'tom']`，我们选择两个分类使用：一个是id为0的close-hat（闭合的踩镲），一个是id为3的tom（中鼓）。\n",
    "\n",
    "`classes`包含分类的类别id，`features`包含每个样本的特征，每个样本的特征为`[zcrs_max, cent_max]`，分别为样本过零率最大值和频谱质心的最大值"
   ]
  },
  {
   "cell_type": "code",
   "execution_count": 16,
   "metadata": {},
   "outputs": [
    {
     "name": "stdout",
     "output_type": "stream",
     "text": [
      "features:  [[0.25439453125, 5516.4580032534495], [0.3681640625, 5490.601257198063], [0.337890625, 5352.68047389478], [0.2919921875, 5336.766295981619], [0.30517578125, 5289.036366374137], [0.193359375, 5244.629253486402], [0.29296875, 5623.7659549621], [0.35546875, 5338.70141195639], [0.40234375, 5534.624111796196], [0.46044921875, 5667.873721573634], [0.46875, 5764.765050822283], [0.42724609375, 5665.266826804815], [0.48828125, 5721.607529192007], [0.0322265625, 2151.831411477686], [0.02392578125, 2370.5585954217368], [0.02685546875, 2490.1321606766824], [0.03564453125, 3801.8154882684476], [0.06689453125, 3576.86491428312], [0.03466796875, 2544.871084198307], [0.046875, 2511.5392874996087], [0.033203125, 2889.4074561680122], [0.03271484375, 3030.1333641026104], [0.04736328125, 3089.1199470143483], [0.02978515625, 2335.6373727027867], [0.021484375, 1751.034211035683], [0.01416015625, 1863.902143068636], [0.02587890625, 2089.526381590321]]\n",
      "classes [0, 0, 0, 0, 0, 0, 0, 0, 0, 0, 0, 0, 0, 3, 3, 3, 3, 3, 3, 3, 3, 3, 3, 3, 3, 3, 3]\n",
      "class_name_1 ['close-hat', 'kick', 'snare', 'tom']\n"
     ]
    }
   ],
   "source": [
    "print('features: ', features)\n",
    "print('classes', classes)\n",
    "print('class_name_1', class_names_1)"
   ]
  },
  {
   "cell_type": "markdown",
   "metadata": {},
   "source": [
    "画出数据集分布，分类为tom的样本标记为红色三角形，close-hat的样本标记为蓝色正方形"
   ]
  },
  {
   "cell_type": "code",
   "execution_count": 50,
   "metadata": {},
   "outputs": [
    {
     "name": "stdout",
     "output_type": "stream",
     "text": [
      "27\n",
      "[0.0322265625, 0.02392578125, 0.02685546875, 0.03564453125, 0.06689453125, 0.03466796875, 0.046875, 0.033203125, 0.03271484375, 0.04736328125, 0.02978515625, 0.021484375, 0.01416015625, 0.02587890625]\n",
      "[2151.831411477686, 2370.5585954217368, 2490.1321606766824, 3801.8154882684476, 3576.86491428312, 2544.871084198307, 2511.5392874996087, 2889.4074561680122, 3030.1333641026104, 3089.1199470143483, 2335.6373727027867, 1751.034211035683, 1863.902143068636, 2089.526381590321]\n",
      "[0.25439453125, 0.3681640625, 0.337890625, 0.2919921875, 0.30517578125, 0.193359375, 0.29296875, 0.35546875, 0.40234375, 0.46044921875, 0.46875, 0.42724609375, 0.48828125]\n",
      "[5516.4580032534495, 5490.601257198063, 5352.68047389478, 5336.766295981619, 5289.036366374137, 5244.629253486402, 5623.7659549621, 5338.70141195639, 5534.624111796196, 5667.873721573634, 5764.765050822283, 5665.266826804815, 5721.607529192007]\n"
     ]
    },
    {
     "data": {
      "image/png": "[encoded data removed]",
      "text/plain": [
       "<Figure size 432x288 with 1 Axes>"
      ]
     },
     "metadata": {
      "needs_background": "light"
     },
     "output_type": "display_data"
    }
   ],
   "source": [
    "%matplotlib inline\n",
    "\n",
    "# 你需要填充以下4个数组：\n",
    "tom_zcrs_max = [] # 分类为tom样本的“过零率最大值”特征值集合\n",
    "tom_cent_max = [] # 分类为tom样本的“频谱质心最大值”特征值集合\n",
    "closehat_zcrs_max = [] # 分类为close-hat样本的“过零率最大值”特征值集合\n",
    "closehat_cent_max = [] # 分类为close-hat样本的“频谱质心最大值”特征值集合\n",
    "\n",
    "# sample_count为样本数量\n",
    "# features的shape为(sample_count, 2)，存储格式为：\n",
    "# [\n",
    "#     [样本1的过零率最大值，样本1的频谱质心最大值],\n",
    "#     [样本2的过零率最大值，样本2的频谱质心最大值],\n",
    "#     ......\n",
    "# ]\n",
    "# classes的shape为(sample_count, )，存储格式为：\n",
    "# [\n",
    "#     样本1标签，\n",
    "#     样本2标签，\n",
    "#     ...\n",
    "# ]\n",
    "# 你需要正确将每个样本的每个特征正确归类到以上四个数组中\n",
    "# 例：tom_zcrs_max = [分类为tom的样本1过零率最大值, 分类为tom的样本2过零率最大值, ....]\n",
    "\n",
    "# =========你的代码=========\n",
    "print(len(features))\n",
    "for i in range(len(features)):\n",
    "    if (classes[i] ==3 ):\n",
    "        tom_zcrs_max.append(features[i][0])\n",
    "        tom_cent_max.append(features[i][1])\n",
    "    else: \n",
    "        closehat_zcrs_max.append(features[i][0])\n",
    "        closehat_cent_max.append(features[i][1])\n",
    "print(tom_zcrs_max)\n",
    "print(tom_cent_max)\n",
    "print(closehat_zcrs_max)\n",
    "print(closehat_cent_max)\n",
    "# ========================\n",
    "\n",
    "# 使用“过零率最大值”为x轴，“频谱质心最大值”为y轴画图\n",
    "\n",
    "fig, ax = plt.subplots()\n",
    "ax.set_title('drum wave feature visualize')\n",
    "ax.set_xlabel('zero crossing rate max')\n",
    "ax.set_ylabel('spectral centroid max')\n",
    "ax.scatter(tom_zcrs_max,tom_cent_max,label='tom',c='b',marker='s',s=50,alpha=0.8) # 将tom样本根据特征画在散点图上\n",
    "ax.scatter(closehat_zcrs_max,closehat_cent_max,label='closehat',c='r', marker='^', s=50, alpha=0.8) # 将close-hat样本根据特征画在散点\n",
    "plt.legend()\n",
    "plt.show()"
   ]
  },
  {
   "cell_type": "markdown",
   "metadata": {},
   "source": [
    "使用knn对数据集分类，其中输入的样本特征为features，样本分类标签为classes"
   ]
  },
  {
   "cell_type": "code",
   "execution_count": 54,
   "metadata": {},
   "outputs": [
    {
     "name": "stdout",
     "output_type": "stream",
     "text": [
      "1.0\n"
     ]
    }
   ],
   "source": [
    "# 构建最大近邻数为5的knn分类器\n",
    "# 你需要返回以下对象：\n",
    "# knn：KNN分类器对象\n",
    "\n",
    "knn = None\n",
    "# =========你的代码=========\n",
    "knn = neighbors.KNeighborsClassifier() \n",
    "# ========================\n",
    "\n",
    "# 训练knn分类器\n",
    "knn.fit(features, classes)\n",
    "\n",
    "# 使用训练集预测分类结果\n",
    "# 你需要返回以下对象：\n",
    "# predicted：输入为训练集特征features，在knn分类器的预测结果\n",
    "predicted = None\n",
    "# =========你的代码=========\n",
    "predicted=knn.predict(features)\n",
    "# ========================\n",
    "accuracy = np.mean(predicted==classes)\n",
    "print(accuracy)"
   ]
  },
  {
   "cell_type": "markdown",
   "metadata": {},
   "source": [
    "# 第二部分 使用麦克风采集单个音频样本并分析特征"
   ]
  },
  {
   "cell_type": "markdown",
   "metadata": {},
   "source": [
    "以下为设置使用麦克风采样音频的参数"
   ]
  },
  {
   "cell_type": "code",
   "execution_count": 134,
   "metadata": {},
   "outputs": [],
   "source": [
    "CHUNK = 4 * 1024                     # 缓冲区可容纳的帧数\n",
    "FORMAT = pyaudio.paInt16             # 采样数据的格式（16位int型）\n",
    "CHANNELS = 1                         # 声道数\n",
    "RATE = 44100                        # 麦克风采样的实际帧率（每秒采样的帧数）\n",
    "RECORD_SECONDS = 0.2          # 采样秒数\n",
    "CHUNK_COUNT = int(RATE / CHUNK * RECORD_SECONDS)    # 给定的采样秒数下，使用的缓冲区个数\n",
    "NUM_FRAMES_IN_ALL_CHUNKS = CHUNK_COUNT * CHUNK  # 给定的采样秒数下，采集的帧数"
   ]
  },
  {
   "cell_type": "markdown",
   "metadata": {},
   "source": [
    "使用麦克风采样一个chunk，观察每次采样的采样值"
   ]
  },
  {
   "cell_type": "code",
   "execution_count": 118,
   "metadata": {},
   "outputs": [
    {
     "name": "stdout",
     "output_type": "stream",
     "text": [
      "* recording\n",
      "* done recording\n"
     ]
    },
    {
     "data": {
      "image/png": "[encoded data removed]",
      "text/plain": [
       "<Figure size 432x288 with 1 Axes>"
      ]
     },
     "metadata": {
      "needs_background": "light"
     },
     "output_type": "display_data"
    }
   ],
   "source": [
    "print(\"* recording\")\n",
    "\n",
    "# 需要构造PyAudio类的实例，通过该实例打开流，读取一个缓冲区的采样值，关闭流\n",
    "# 你需要正确生成这个对象：\n",
    "# data：缓冲区内的采样数据\n",
    "\n",
    "data = \"\"\n",
    "\n",
    "# =========你的代码=========\n",
    "p=pyaudio.PyAudio()\n",
    "#CHUNK = 4096 #缓冲区大小\n",
    "#FORMAT = pyaudio.paInt16\n",
    "#CHANNELS = 2\n",
    "#RATE = 44100 #采样率\n",
    "#RECORD_SECONDS = 2\n",
    "stream=p.open(format=FORMAT,channels=CHANNELS,rate=RATE,input=True,frames_per_buffer=CHUNK)\n",
    "data=stream.read(CHUNK)\n",
    "stream.stop_stream()\n",
    "stream.close()\n",
    "p.terminate()\n",
    "# ========================\n",
    "\n",
    "print(\"* done recording\")\n",
    "\n",
    "audio_data = np.frombuffer(data, dtype=np.int16)\n",
    "fig, ax = plt.subplots()\n",
    "ax.set_title('wave samples in a chunk')\n",
    "ax.set_xlabel('frame')\n",
    "ax.set_ylabel('amplitude')\n",
    "ax.plot(audio_data, \"-\")\n",
    "plt.show()"
   ]
  },
  {
   "cell_type": "markdown",
   "metadata": {},
   "source": [
    "### 使用librosa提取上述样本的过零率和频谱质心"
   ]
  },
  {
   "cell_type": "code",
   "execution_count": 94,
   "metadata": {},
   "outputs": [
    {
     "name": "stdout",
     "output_type": "stream",
     "text": [
      "过零率：  [[0.0078125  0.01123047 0.01464844 0.01635742 0.01928711 0.02050781\n",
      "  0.02636719 0.03442383 0.04736328 0.05834961 0.0690918  0.08251953\n",
      "  0.09326172 0.09082031 0.08398438 0.07299805 0.05737305]]\n",
      "频谱质心：  [[1100.50133987 1047.01291484 1098.52626154 1137.07391785  991.96356624\n",
      "   857.80005196  815.88206017  785.12051302  793.33993079 1006.4508516\n",
      "  1695.97989617 2098.36615947 2208.84617835 2231.1309305  2296.25760356\n",
      "  2380.22341157 2376.61623187]]\n",
      "过零率最大值： 0.09326171875\n",
      "频谱质心最大值： 2380.223411570525\n"
     ]
    }
   ],
   "source": [
    "audio_data = audio_data.astype(np.float32)\n",
    "# audio_data为np.array对象，使用librosa库从该段音频样本中提取过零率和频谱质心特征\n",
    "# 注意：获取频谱质心函数中的采样率应为RATE\n",
    "# 你需要正确生成这个对象：\n",
    "# zcrs：使用librosa库从audio_data获取的过零率数据\n",
    "# cent：使用librosa库从audio_data获取的频谱质心数据\n",
    "\n",
    "zcrs = None\n",
    "cent = None\n",
    "\n",
    "# =========你的代码=========\n",
    "cent=librosa.feature.spectral_centroid(y=audio_data)\n",
    "zcrs=librosa.feature.zero_crossing_rate(audio_data,frame_length=CHUNK)\n",
    "# ========================\n",
    "\n",
    "print(\"过零率： \", zcrs)\n",
    "print(\"频谱质心： \", cent)\n",
    "# 取得过零率和频谱质心的最大值\n",
    "zcrs_max = np.max(zcrs[0])\n",
    "cent_max = np.max(cent[0])\n",
    "print(\"过零率最大值：\", zcrs_max)\n",
    "print(\"频谱质心最大值：\", cent_max)"
   ]
  },
  {
   "cell_type": "markdown",
   "metadata": {},
   "source": [
    "使用上述训练的knn模型对本次采样进行分类"
   ]
  },
  {
   "cell_type": "code",
   "execution_count": 95,
   "metadata": {},
   "outputs": [
    {
     "name": "stdout",
     "output_type": "stream",
     "text": [
      "tom\n"
     ]
    }
   ],
   "source": [
    "predicted = knn.predict([[zcrs_max, cent_max]])\n",
    "print(class_names_1[predicted[0]])"
   ]
  },
  {
   "cell_type": "markdown",
   "metadata": {},
   "source": [
    "# 第三部分：使用麦克风连续采样并分析特征"
   ]
  },
  {
   "cell_type": "markdown",
   "metadata": {},
   "source": [
    "修改matplotlib的显示方式，改为独立窗口显示"
   ]
  },
  {
   "cell_type": "code",
   "execution_count": 108,
   "metadata": {},
   "outputs": [],
   "source": [
    "from IPython.display import display, clear_output"
   ]
  },
  {
   "cell_type": "code",
   "execution_count": 124,
   "metadata": {},
   "outputs": [],
   "source": [
    "%matplotlib tk"
   ]
  },
  {
   "cell_type": "markdown",
   "metadata": {},
   "source": [
    "设置图表的显示格式，包括正确的坐标轴、标签和阈值"
   ]
  },
  {
   "cell_type": "code",
   "execution_count": 122,
   "metadata": {},
   "outputs": [
    {
     "data": {
      "image/png": "[encoded data removed]",
      "text/plain": [
       "<Figure size 1080x504 with 1 Axes>"
      ]
     },
     "metadata": {
      "needs_background": "light"
     },
     "output_type": "display_data"
    }
   ],
   "source": [
    "%matplotlib tk\n",
    "\n",
    "# create matplotlib figure and axes\n",
    "fig, ax1 = plt.subplots(1, figsize=(15, 7))\n",
    "\n",
    "# variable for plotting\n",
    "x = np.arange(0, NUM_FRAMES_IN_ALL_CHUNKS, 1) # 样本数据\n",
    "\n",
    "# create a line object with random data\n",
    "line, = ax1.plot(x, np.random.rand(NUM_FRAMES_IN_ALL_CHUNKS), '-', lw=2)\n",
    "\n",
    "# basic formatting for the axes\n",
    "ax1.set_title('audio waves')\n",
    "ax1.set_xlabel('frame')\n",
    "ax1.set_ylabel('amplitude (normalized)')\n",
    "ax1.set_ylim(-1, 1)\n",
    "ax1.set_xlim(0, NUM_FRAMES_IN_ALL_CHUNKS)\n",
    "plt.setp(ax1, xticks=[0, NUM_FRAMES_IN_ALL_CHUNKS/2, NUM_FRAMES_IN_ALL_CHUNKS], yticks=[-1, 0, 1])\n",
    "\n",
    "# show the plot\n",
    "plt.show(block=False)\n",
    "\n",
    "audio_data = np.zeros([NUM_FRAMES_IN_ALL_CHUNKS], dtype=np.int16)\n",
    "line.set_ydata(audio_data)"
   ]
  },
  {
   "cell_type": "markdown",
   "metadata": {},
   "source": [
    "每隔`RECORD_SECONDS`秒采集一段音频，对该样本绘制其波形及频谱，并用knn模型进行分类（是否为tom低音鼓或close-hat镲）"
   ]
  },
  {
   "cell_type": "code",
   "execution_count": 136,
   "metadata": {
    "scrolled": false
   },
   "outputs": [
    {
     "data": {
      "text/plain": [
       "(172032,)"
      ]
     },
     "metadata": {},
     "output_type": "display_data"
    },
    {
     "data": {
      "text/plain": [
       "'zcrs: [[0.01757812 0.02075195 0.02368164 0.02709961 0.02954102 0.02709961\\n  0.02319336 0.02270508 0.02270508 0.02416992 0.02587891 0.02832031\\n  0.03271484 0.03027344 0.02905273 0.02612305 0.02197266]]'"
      ]
     },
     "metadata": {},
     "output_type": "display_data"
    },
    {
     "data": {
      "text/plain": [
       "'cent: [[1313.08360512 1294.37482863 1305.59758088 1225.68081981 1182.88924061\\n  1245.28486908 1305.41199026 1472.86978234 1696.33737059 1398.05417642\\n  1386.6740607  1558.73277524 1687.41544112 1734.83660127 1731.3353275\\n  1770.60002557 1838.0692488 ]]'"
      ]
     },
     "metadata": {},
     "output_type": "display_data"
    },
    {
     "data": {
      "text/plain": [
       "'zcrs_max: 0.03271484375'"
      ]
     },
     "metadata": {},
     "output_type": "display_data"
    },
    {
     "data": {
      "text/plain": [
       "'cent_max: 1838.0692487970384'"
      ]
     },
     "metadata": {},
     "output_type": "display_data"
    },
    {
     "data": {
      "text/plain": [
       "'predict:tom'"
      ]
     },
     "metadata": {},
     "output_type": "display_data"
    },
    {
     "data": {
      "text/plain": [
       "'stream stopped'"
      ]
     },
     "metadata": {},
     "output_type": "display_data"
    }
   ],
   "source": [
    "%matplotlib tk\n",
    "\n",
    "# create matplotlib figure and axes\n",
    "fig, ax1 = plt.subplots(1, figsize=(15, 7))\n",
    "\n",
    "# variable for plotting\n",
    "x = np.arange(0, NUM_FRAMES_IN_ALL_CHUNKS, 1) # 样本数据\n",
    "\n",
    "# create a line object with random data\n",
    "line, = ax1.plot(x, np.random.rand(NUM_FRAMES_IN_ALL_CHUNKS), '-', lw=2)\n",
    "\n",
    "# basic formatting for the axes\n",
    "ax1.set_title('audio waves')\n",
    "ax1.set_xlabel('frame')\n",
    "ax1.set_ylabel('amplitude (normalized)')\n",
    "ax1.set_ylim(-1024, 1024)\n",
    "ax1.set_xlim(0, NUM_FRAMES_IN_ALL_CHUNKS)\n",
    "plt.setp(ax1, xticks=[0, NUM_FRAMES_IN_ALL_CHUNKS/2, NUM_FRAMES_IN_ALL_CHUNKS], yticks=[-1024, 0, 1024])\n",
    "\n",
    "# show the plot\n",
    "plt.show(block=False)\n",
    "\n",
    "audio_data = np.zeros([NUM_FRAMES_IN_ALL_CHUNKS], dtype=np.int16)\n",
    "# line.set_ydata(audio_data)\n",
    "\n",
    "# 需要构造PyAudio类的实例，和生成输入流\n",
    "# 注意：需要正确设置流的缓冲区大小为CHUNK，即缓冲区内存放的帧数\n",
    "# 你需要正确生成这个对象：\n",
    "# p：pyaudio实例\n",
    "# stream：输入流\n",
    "\n",
    "p = None\n",
    "stream = None\n",
    "\n",
    "# =========你的代码=========\n",
    "p=pyaudio.PyAudio()\n",
    "stream=p.open(format=FORMAT,channels=CHANNELS,rate=RATE,input=True,frames_per_buffer=CHUNK)\n",
    "#data=stream.read(CHUNK)\n",
    "# ========================\n",
    "\n",
    "\n",
    "display('stream started')\n",
    "\n",
    "# 使用while循环不断从stream中读取样本，直到关闭图表位置\n",
    "# 你可以在break的位置观察到：关闭matplotlib生成的图表会抛出TclError异常\n",
    "\n",
    "while True:\n",
    "\n",
    "    # 由于每次从流中获取数据是以缓冲区为单位，RECORD_SECONDS时间内会获取不止一个chunk大小的样本\n",
    "    # 将每次从缓冲区取出的数据放入frames数组中，随后将它们拼接起来\n",
    "    frames = []\n",
    "    for i in range(0, int(RATE / CHUNK * RECORD_SECONDS)):\n",
    "        data = stream.read(CHUNK, exception_on_overflow = False)\n",
    "        data_np =  np.frombuffer(data, dtype=np.int16)\n",
    "        frames.append(data_np)\n",
    "\n",
    "    audio_data = np.hstack(frames)\n",
    "    \n",
    "    # 将样本归一化到[0, 1]范围内\n",
    "    audio_data_norm = audio_data / float(np.amax(np.abs(audio_data)))\n",
    "    \n",
    "    \n",
    "    \n",
    "    # 画图\n",
    "    line.set_ydata(audio_data)\n",
    "    \n",
    "    audio_data = audio_data.astype(np.float32)\n",
    "    # audio_data包含了在设定的时间范围内获取的音频样本\n",
    "    # 需要对该样本使用librosa库进行特征提取\n",
    "    # 你需要正确生成这个对象：\n",
    "    # zcrs：使用librosa库从audio_data获取的过零率数据\n",
    "    # cent：使用librosa库从audio_data获取的频谱质心数据\n",
    "    zcrs = []\n",
    "    cent = []\n",
    "    # =========你的代码=========\n",
    "    cent=librosa.feature.spectral_centroid(y=audio_data,sr=44100)\n",
    "    zcrs=librosa.feature.zero_crossing_rate(audio_data,frame_length=CHUNK)   \n",
    "    # ========================\n",
    "    \n",
    "    # 输出结果到下方标准输出\n",
    "    clear_output()\n",
    "    \n",
    "    display(audio_data_norm.shape)\n",
    "    \n",
    "    display(\"zcrs: \" + str(zcrs))\n",
    "    display(\"cent: \" + str(cent))\n",
    "    \n",
    "    zcrs_max = np.max(zcrs[0]) # 过零率的最大值\n",
    "    cent_max = np.max(cent[0]) # 频率质心的最大值\n",
    "    display(\"zcrs_max: \" + str(zcrs_max))\n",
    "    display(\"cent_max: \" + str(cent_max))\n",
    "    \n",
    "    # 使用knn分类器对上述样本的两个特征进行分类\n",
    "    # 你需要正确生成这个对象：\n",
    "    # predicted：使用knn分类器返回预测标签\n",
    "    predicted = [None]\n",
    "    # =========你的代码=========\n",
    "    predicted = knn.predict([[zcrs_max, cent_max]])\n",
    "    \n",
    "    # ========================\n",
    "    display(\"predict:\"+ class_names_1[predicted[0]])\n",
    "    \n",
    "#     #  更新图表\n",
    "    try:\n",
    "        fig.canvas.draw()\n",
    "        fig.canvas.flush_events()\n",
    "    \n",
    "    # 关闭图表，中断循环\n",
    "    except TclError:\n",
    "        display('stream stopped')\n",
    "        break"
   ]
  },
  {
   "cell_type": "markdown",
   "metadata": {},
   "source": [
    "# 总结\n",
    "\n",
    "恭喜你完成了以上的任务！如果你对音频特征还有更多兴趣的话，可以试试以下的事情：\n",
    "\n",
    "- 使用傅立叶转换获取音频样本的频谱图\n",
    "- 使用librosa提取不同的特征\n",
    "- 使用不同的分类器对你获取的特征进行分类"
   ]
  },
  {
   "cell_type": "code",
   "execution_count": null,
   "metadata": {},
   "outputs": [],
   "source": []
  }
 ],
 "metadata": {
  "kernelspec": {
   "display_name": "Python 3",
   "language": "python",
   "name": "python3"
  },
  "language_info": {
   "codemirror_mode": {
    "name": "ipython",
    "version": 3
   },
   "file_extension": ".py",
   "mimetype": "text/x-python",
   "name": "python",
   "nbconvert_exporter": "python",
   "pygments_lexer": "ipython3",
   "version": "3.7.3"
  }
 },
 "nbformat": 4,
 "nbformat_minor": 2
}
